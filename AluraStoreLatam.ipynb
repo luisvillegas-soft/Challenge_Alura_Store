{
  "nbformat": 4,
  "nbformat_minor": 0,
  "metadata": {
    "colab": {
      "provenance": []
    },
    "kernelspec": {
      "name": "python3",
      "display_name": "Python 3"
    },
    "language_info": {
      "name": "python"
    }
  },
  "cells": [
    {
      "cell_type": "markdown",
      "source": [
        "### Importación de datos\n",
        "\n"
      ],
      "metadata": {
        "id": "RhEdWd9YUR6H"
      }
    },
    {
      "cell_type": "code",
      "execution_count": 84,
      "metadata": {
        "colab": {
          "base_uri": "https://localhost:8080/",
          "height": 306
        },
        "id": "T3EvaeQ_INIL",
        "outputId": "a58b9966-5c19-4323-f7ce-18460938c961"
      },
      "outputs": [
        {
          "output_type": "execute_result",
          "data": {
            "text/plain": [
              "            Producto Categoría del Producto    Precio  Costo de envío  \\\n",
              "0  Asistente virtual           Electrónicos  164300.0          6900.0   \n",
              "1    Mesa de comedor                Muebles  192300.0          8400.0   \n",
              "2      Juego de mesa               Juguetes  209600.0         15900.0   \n",
              "3         Microondas      Electrodomésticos  757500.0         41000.0   \n",
              "4   Silla de oficina                Muebles  335200.0         20200.0   \n",
              "\n",
              "  Fecha de Compra         Vendedor Lugar de Compra  Calificación  \\\n",
              "0      16/01/2021      Pedro Gomez          Bogotá             4   \n",
              "1      18/05/2022  Beatriz Morales        Medellín             1   \n",
              "2      15/03/2021   Juan Fernandez       Cartagena             1   \n",
              "3      03/05/2022   Juan Fernandez            Cali             4   \n",
              "4      07/11/2020    Maria Alfonso        Medellín             5   \n",
              "\n",
              "       Método de pago  Cantidad de cuotas       lat       lon  \n",
              "0  Tarjeta de crédito                   8   4.60971 -74.08175  \n",
              "1  Tarjeta de crédito                   4   6.25184 -75.56359  \n",
              "2  Tarjeta de crédito                   1  10.39972 -75.51444  \n",
              "3               Nequi                   1   3.43722 -76.52250  \n",
              "4               Nequi                   1   6.25184 -75.56359  "
            ],
            "text/html": [
              "\n",
              "  <div id=\"df-df55d72f-9857-4dd7-8485-f24d2b9ddc58\" class=\"colab-df-container\">\n",
              "    <div>\n",
              "<style scoped>\n",
              "    .dataframe tbody tr th:only-of-type {\n",
              "        vertical-align: middle;\n",
              "    }\n",
              "\n",
              "    .dataframe tbody tr th {\n",
              "        vertical-align: top;\n",
              "    }\n",
              "\n",
              "    .dataframe thead th {\n",
              "        text-align: right;\n",
              "    }\n",
              "</style>\n",
              "<table border=\"1\" class=\"dataframe\">\n",
              "  <thead>\n",
              "    <tr style=\"text-align: right;\">\n",
              "      <th></th>\n",
              "      <th>Producto</th>\n",
              "      <th>Categoría del Producto</th>\n",
              "      <th>Precio</th>\n",
              "      <th>Costo de envío</th>\n",
              "      <th>Fecha de Compra</th>\n",
              "      <th>Vendedor</th>\n",
              "      <th>Lugar de Compra</th>\n",
              "      <th>Calificación</th>\n",
              "      <th>Método de pago</th>\n",
              "      <th>Cantidad de cuotas</th>\n",
              "      <th>lat</th>\n",
              "      <th>lon</th>\n",
              "    </tr>\n",
              "  </thead>\n",
              "  <tbody>\n",
              "    <tr>\n",
              "      <th>0</th>\n",
              "      <td>Asistente virtual</td>\n",
              "      <td>Electrónicos</td>\n",
              "      <td>164300.0</td>\n",
              "      <td>6900.0</td>\n",
              "      <td>16/01/2021</td>\n",
              "      <td>Pedro Gomez</td>\n",
              "      <td>Bogotá</td>\n",
              "      <td>4</td>\n",
              "      <td>Tarjeta de crédito</td>\n",
              "      <td>8</td>\n",
              "      <td>4.60971</td>\n",
              "      <td>-74.08175</td>\n",
              "    </tr>\n",
              "    <tr>\n",
              "      <th>1</th>\n",
              "      <td>Mesa de comedor</td>\n",
              "      <td>Muebles</td>\n",
              "      <td>192300.0</td>\n",
              "      <td>8400.0</td>\n",
              "      <td>18/05/2022</td>\n",
              "      <td>Beatriz Morales</td>\n",
              "      <td>Medellín</td>\n",
              "      <td>1</td>\n",
              "      <td>Tarjeta de crédito</td>\n",
              "      <td>4</td>\n",
              "      <td>6.25184</td>\n",
              "      <td>-75.56359</td>\n",
              "    </tr>\n",
              "    <tr>\n",
              "      <th>2</th>\n",
              "      <td>Juego de mesa</td>\n",
              "      <td>Juguetes</td>\n",
              "      <td>209600.0</td>\n",
              "      <td>15900.0</td>\n",
              "      <td>15/03/2021</td>\n",
              "      <td>Juan Fernandez</td>\n",
              "      <td>Cartagena</td>\n",
              "      <td>1</td>\n",
              "      <td>Tarjeta de crédito</td>\n",
              "      <td>1</td>\n",
              "      <td>10.39972</td>\n",
              "      <td>-75.51444</td>\n",
              "    </tr>\n",
              "    <tr>\n",
              "      <th>3</th>\n",
              "      <td>Microondas</td>\n",
              "      <td>Electrodomésticos</td>\n",
              "      <td>757500.0</td>\n",
              "      <td>41000.0</td>\n",
              "      <td>03/05/2022</td>\n",
              "      <td>Juan Fernandez</td>\n",
              "      <td>Cali</td>\n",
              "      <td>4</td>\n",
              "      <td>Nequi</td>\n",
              "      <td>1</td>\n",
              "      <td>3.43722</td>\n",
              "      <td>-76.52250</td>\n",
              "    </tr>\n",
              "    <tr>\n",
              "      <th>4</th>\n",
              "      <td>Silla de oficina</td>\n",
              "      <td>Muebles</td>\n",
              "      <td>335200.0</td>\n",
              "      <td>20200.0</td>\n",
              "      <td>07/11/2020</td>\n",
              "      <td>Maria Alfonso</td>\n",
              "      <td>Medellín</td>\n",
              "      <td>5</td>\n",
              "      <td>Nequi</td>\n",
              "      <td>1</td>\n",
              "      <td>6.25184</td>\n",
              "      <td>-75.56359</td>\n",
              "    </tr>\n",
              "  </tbody>\n",
              "</table>\n",
              "</div>\n",
              "    <div class=\"colab-df-buttons\">\n",
              "\n",
              "  <div class=\"colab-df-container\">\n",
              "    <button class=\"colab-df-convert\" onclick=\"convertToInteractive('df-df55d72f-9857-4dd7-8485-f24d2b9ddc58')\"\n",
              "            title=\"Convert this dataframe to an interactive table.\"\n",
              "            style=\"display:none;\">\n",
              "\n",
              "  <svg xmlns=\"http://www.w3.org/2000/svg\" height=\"24px\" viewBox=\"0 -960 960 960\">\n",
              "    <path d=\"M120-120v-720h720v720H120Zm60-500h600v-160H180v160Zm220 220h160v-160H400v160Zm0 220h160v-160H400v160ZM180-400h160v-160H180v160Zm440 0h160v-160H620v160ZM180-180h160v-160H180v160Zm440 0h160v-160H620v160Z\"/>\n",
              "  </svg>\n",
              "    </button>\n",
              "\n",
              "  <style>\n",
              "    .colab-df-container {\n",
              "      display:flex;\n",
              "      gap: 12px;\n",
              "    }\n",
              "\n",
              "    .colab-df-convert {\n",
              "      background-color: #E8F0FE;\n",
              "      border: none;\n",
              "      border-radius: 50%;\n",
              "      cursor: pointer;\n",
              "      display: none;\n",
              "      fill: #1967D2;\n",
              "      height: 32px;\n",
              "      padding: 0 0 0 0;\n",
              "      width: 32px;\n",
              "    }\n",
              "\n",
              "    .colab-df-convert:hover {\n",
              "      background-color: #E2EBFA;\n",
              "      box-shadow: 0px 1px 2px rgba(60, 64, 67, 0.3), 0px 1px 3px 1px rgba(60, 64, 67, 0.15);\n",
              "      fill: #174EA6;\n",
              "    }\n",
              "\n",
              "    .colab-df-buttons div {\n",
              "      margin-bottom: 4px;\n",
              "    }\n",
              "\n",
              "    [theme=dark] .colab-df-convert {\n",
              "      background-color: #3B4455;\n",
              "      fill: #D2E3FC;\n",
              "    }\n",
              "\n",
              "    [theme=dark] .colab-df-convert:hover {\n",
              "      background-color: #434B5C;\n",
              "      box-shadow: 0px 1px 3px 1px rgba(0, 0, 0, 0.15);\n",
              "      filter: drop-shadow(0px 1px 2px rgba(0, 0, 0, 0.3));\n",
              "      fill: #FFFFFF;\n",
              "    }\n",
              "  </style>\n",
              "\n",
              "    <script>\n",
              "      const buttonEl =\n",
              "        document.querySelector('#df-df55d72f-9857-4dd7-8485-f24d2b9ddc58 button.colab-df-convert');\n",
              "      buttonEl.style.display =\n",
              "        google.colab.kernel.accessAllowed ? 'block' : 'none';\n",
              "\n",
              "      async function convertToInteractive(key) {\n",
              "        const element = document.querySelector('#df-df55d72f-9857-4dd7-8485-f24d2b9ddc58');\n",
              "        const dataTable =\n",
              "          await google.colab.kernel.invokeFunction('convertToInteractive',\n",
              "                                                    [key], {});\n",
              "        if (!dataTable) return;\n",
              "\n",
              "        const docLinkHtml = 'Like what you see? Visit the ' +\n",
              "          '<a target=\"_blank\" href=https://colab.research.google.com/notebooks/data_table.ipynb>data table notebook</a>'\n",
              "          + ' to learn more about interactive tables.';\n",
              "        element.innerHTML = '';\n",
              "        dataTable['output_type'] = 'display_data';\n",
              "        await google.colab.output.renderOutput(dataTable, element);\n",
              "        const docLink = document.createElement('div');\n",
              "        docLink.innerHTML = docLinkHtml;\n",
              "        element.appendChild(docLink);\n",
              "      }\n",
              "    </script>\n",
              "  </div>\n",
              "\n",
              "\n",
              "    <div id=\"df-37d97cf5-0222-45fe-b88c-5c7037a2b3f1\">\n",
              "      <button class=\"colab-df-quickchart\" onclick=\"quickchart('df-37d97cf5-0222-45fe-b88c-5c7037a2b3f1')\"\n",
              "                title=\"Suggest charts\"\n",
              "                style=\"display:none;\">\n",
              "\n",
              "<svg xmlns=\"http://www.w3.org/2000/svg\" height=\"24px\"viewBox=\"0 0 24 24\"\n",
              "     width=\"24px\">\n",
              "    <g>\n",
              "        <path d=\"M19 3H5c-1.1 0-2 .9-2 2v14c0 1.1.9 2 2 2h14c1.1 0 2-.9 2-2V5c0-1.1-.9-2-2-2zM9 17H7v-7h2v7zm4 0h-2V7h2v10zm4 0h-2v-4h2v4z\"/>\n",
              "    </g>\n",
              "</svg>\n",
              "      </button>\n",
              "\n",
              "<style>\n",
              "  .colab-df-quickchart {\n",
              "      --bg-color: #E8F0FE;\n",
              "      --fill-color: #1967D2;\n",
              "      --hover-bg-color: #E2EBFA;\n",
              "      --hover-fill-color: #174EA6;\n",
              "      --disabled-fill-color: #AAA;\n",
              "      --disabled-bg-color: #DDD;\n",
              "  }\n",
              "\n",
              "  [theme=dark] .colab-df-quickchart {\n",
              "      --bg-color: #3B4455;\n",
              "      --fill-color: #D2E3FC;\n",
              "      --hover-bg-color: #434B5C;\n",
              "      --hover-fill-color: #FFFFFF;\n",
              "      --disabled-bg-color: #3B4455;\n",
              "      --disabled-fill-color: #666;\n",
              "  }\n",
              "\n",
              "  .colab-df-quickchart {\n",
              "    background-color: var(--bg-color);\n",
              "    border: none;\n",
              "    border-radius: 50%;\n",
              "    cursor: pointer;\n",
              "    display: none;\n",
              "    fill: var(--fill-color);\n",
              "    height: 32px;\n",
              "    padding: 0;\n",
              "    width: 32px;\n",
              "  }\n",
              "\n",
              "  .colab-df-quickchart:hover {\n",
              "    background-color: var(--hover-bg-color);\n",
              "    box-shadow: 0 1px 2px rgba(60, 64, 67, 0.3), 0 1px 3px 1px rgba(60, 64, 67, 0.15);\n",
              "    fill: var(--button-hover-fill-color);\n",
              "  }\n",
              "\n",
              "  .colab-df-quickchart-complete:disabled,\n",
              "  .colab-df-quickchart-complete:disabled:hover {\n",
              "    background-color: var(--disabled-bg-color);\n",
              "    fill: var(--disabled-fill-color);\n",
              "    box-shadow: none;\n",
              "  }\n",
              "\n",
              "  .colab-df-spinner {\n",
              "    border: 2px solid var(--fill-color);\n",
              "    border-color: transparent;\n",
              "    border-bottom-color: var(--fill-color);\n",
              "    animation:\n",
              "      spin 1s steps(1) infinite;\n",
              "  }\n",
              "\n",
              "  @keyframes spin {\n",
              "    0% {\n",
              "      border-color: transparent;\n",
              "      border-bottom-color: var(--fill-color);\n",
              "      border-left-color: var(--fill-color);\n",
              "    }\n",
              "    20% {\n",
              "      border-color: transparent;\n",
              "      border-left-color: var(--fill-color);\n",
              "      border-top-color: var(--fill-color);\n",
              "    }\n",
              "    30% {\n",
              "      border-color: transparent;\n",
              "      border-left-color: var(--fill-color);\n",
              "      border-top-color: var(--fill-color);\n",
              "      border-right-color: var(--fill-color);\n",
              "    }\n",
              "    40% {\n",
              "      border-color: transparent;\n",
              "      border-right-color: var(--fill-color);\n",
              "      border-top-color: var(--fill-color);\n",
              "    }\n",
              "    60% {\n",
              "      border-color: transparent;\n",
              "      border-right-color: var(--fill-color);\n",
              "    }\n",
              "    80% {\n",
              "      border-color: transparent;\n",
              "      border-right-color: var(--fill-color);\n",
              "      border-bottom-color: var(--fill-color);\n",
              "    }\n",
              "    90% {\n",
              "      border-color: transparent;\n",
              "      border-bottom-color: var(--fill-color);\n",
              "    }\n",
              "  }\n",
              "</style>\n",
              "\n",
              "      <script>\n",
              "        async function quickchart(key) {\n",
              "          const quickchartButtonEl =\n",
              "            document.querySelector('#' + key + ' button');\n",
              "          quickchartButtonEl.disabled = true;  // To prevent multiple clicks.\n",
              "          quickchartButtonEl.classList.add('colab-df-spinner');\n",
              "          try {\n",
              "            const charts = await google.colab.kernel.invokeFunction(\n",
              "                'suggestCharts', [key], {});\n",
              "          } catch (error) {\n",
              "            console.error('Error during call to suggestCharts:', error);\n",
              "          }\n",
              "          quickchartButtonEl.classList.remove('colab-df-spinner');\n",
              "          quickchartButtonEl.classList.add('colab-df-quickchart-complete');\n",
              "        }\n",
              "        (() => {\n",
              "          let quickchartButtonEl =\n",
              "            document.querySelector('#df-37d97cf5-0222-45fe-b88c-5c7037a2b3f1 button');\n",
              "          quickchartButtonEl.style.display =\n",
              "            google.colab.kernel.accessAllowed ? 'block' : 'none';\n",
              "        })();\n",
              "      </script>\n",
              "    </div>\n",
              "\n",
              "    </div>\n",
              "  </div>\n"
            ],
            "application/vnd.google.colaboratory.intrinsic+json": {
              "type": "dataframe",
              "variable_name": "tienda1",
              "summary": "{\n  \"name\": \"tienda1\",\n  \"rows\": 2359,\n  \"fields\": [\n    {\n      \"column\": \"Producto\",\n      \"properties\": {\n        \"dtype\": \"category\",\n        \"num_unique_values\": 51,\n        \"samples\": [\n          \"Guitarra ac\\u00fastica\",\n          \"Bal\\u00f3n de baloncesto\",\n          \"Smartwatch\"\n        ],\n        \"semantic_type\": \"\",\n        \"description\": \"\"\n      }\n    },\n    {\n      \"column\": \"Categor\\u00eda del Producto\",\n      \"properties\": {\n        \"dtype\": \"category\",\n        \"num_unique_values\": 8,\n        \"samples\": [\n          \"Muebles\",\n          \"Deportes y diversi\\u00f3n\",\n          \"Electr\\u00f3nicos\"\n        ],\n        \"semantic_type\": \"\",\n        \"description\": \"\"\n      }\n    },\n    {\n      \"column\": \"Precio\",\n      \"properties\": {\n        \"dtype\": \"number\",\n        \"std\": 614686.7653873172,\n        \"min\": 7600.0,\n        \"max\": 2977000.0,\n        \"num_unique_values\": 1937,\n        \"samples\": [\n          2499400.0,\n          14800.0,\n          80500.0\n        ],\n        \"semantic_type\": \"\",\n        \"description\": \"\"\n      }\n    },\n    {\n      \"column\": \"Costo de env\\u00edo\",\n      \"properties\": {\n        \"dtype\": \"number\",\n        \"std\": 32860.0017825605,\n        \"min\": 0.0,\n        \"max\": 160800.0,\n        \"num_unique_values\": 753,\n        \"samples\": [\n          117800.0,\n          54700.0,\n          45600.0\n        ],\n        \"semantic_type\": \"\",\n        \"description\": \"\"\n      }\n    },\n    {\n      \"column\": \"Fecha de Compra\",\n      \"properties\": {\n        \"dtype\": \"object\",\n        \"num_unique_values\": 1018,\n        \"samples\": [\n          \"15/09/2022\",\n          \"03/06/2020\",\n          \"06/11/2021\"\n        ],\n        \"semantic_type\": \"\",\n        \"description\": \"\"\n      }\n    },\n    {\n      \"column\": \"Vendedor\",\n      \"properties\": {\n        \"dtype\": \"category\",\n        \"num_unique_values\": 14,\n        \"samples\": [\n          \"Juliana Costa\",\n          \"Mariana Herrera\",\n          \"Pedro Gomez\"\n        ],\n        \"semantic_type\": \"\",\n        \"description\": \"\"\n      }\n    },\n    {\n      \"column\": \"Lugar de Compra\",\n      \"properties\": {\n        \"dtype\": \"category\",\n        \"num_unique_values\": 19,\n        \"samples\": [\n          \"Bogot\\u00e1\",\n          \"Pereira\",\n          \"Neiva\"\n        ],\n        \"semantic_type\": \"\",\n        \"description\": \"\"\n      }\n    },\n    {\n      \"column\": \"Calificaci\\u00f3n\",\n      \"properties\": {\n        \"dtype\": \"number\",\n        \"std\": 1,\n        \"min\": 1,\n        \"max\": 5,\n        \"num_unique_values\": 5,\n        \"samples\": [\n          1,\n          2,\n          5\n        ],\n        \"semantic_type\": \"\",\n        \"description\": \"\"\n      }\n    },\n    {\n      \"column\": \"M\\u00e9todo de pago\",\n      \"properties\": {\n        \"dtype\": \"category\",\n        \"num_unique_values\": 4,\n        \"samples\": [\n          \"Nequi\",\n          \"Tarjeta de d\\u00e9bito\",\n          \"Tarjeta de cr\\u00e9dito\"\n        ],\n        \"semantic_type\": \"\",\n        \"description\": \"\"\n      }\n    },\n    {\n      \"column\": \"Cantidad de cuotas\",\n      \"properties\": {\n        \"dtype\": \"number\",\n        \"std\": 2,\n        \"min\": 1,\n        \"max\": 24,\n        \"num_unique_values\": 15,\n        \"samples\": [\n          7,\n          14,\n          8\n        ],\n        \"semantic_type\": \"\",\n        \"description\": \"\"\n      }\n    },\n    {\n      \"column\": \"lat\",\n      \"properties\": {\n        \"dtype\": \"number\",\n        \"std\": 2.2874452492678627,\n        \"min\": -4.21528,\n        \"max\": 11.54444,\n        \"num_unique_values\": 19,\n        \"samples\": [\n          4.60971,\n          4.81333,\n          2.9273\n        ],\n        \"semantic_type\": \"\",\n        \"description\": \"\"\n      }\n    },\n    {\n      \"column\": \"lon\",\n      \"properties\": {\n        \"dtype\": \"number\",\n        \"std\": 1.2178272727088486,\n        \"min\": -77.28111,\n        \"max\": -67.9239,\n        \"num_unique_values\": 19,\n        \"samples\": [\n          -74.08175,\n          -75.69611,\n          -75.28189\n        ],\n        \"semantic_type\": \"\",\n        \"description\": \"\"\n      }\n    }\n  ]\n}"
            }
          },
          "metadata": {},
          "execution_count": 84
        }
      ],
      "source": [
        "import pandas as pd\n",
        "import matplotlib.pyplot as plt\n",
        "\n",
        "url = \"https://raw.githubusercontent.com/alura-es-cursos/challenge1-data-science-latam/refs/heads/main/base-de-datos-challenge1-latam/tienda_1%20.csv\"\n",
        "url2 = \"https://raw.githubusercontent.com/alura-es-cursos/challenge1-data-science-latam/refs/heads/main/base-de-datos-challenge1-latam/tienda_2.csv\"\n",
        "url3 = \"https://raw.githubusercontent.com/alura-es-cursos/challenge1-data-science-latam/refs/heads/main/base-de-datos-challenge1-latam/tienda_3.csv\"\n",
        "url4 = \"https://raw.githubusercontent.com/alura-es-cursos/challenge1-data-science-latam/refs/heads/main/base-de-datos-challenge1-latam/tienda_4.csv\"\n",
        "\n",
        "tienda1 = pd.read_csv(url)\n",
        "tienda2 = pd.read_csv(url2)\n",
        "tienda3 = pd.read_csv(url3)\n",
        "tienda4 = pd.read_csv(url4)\n",
        "\n",
        "tienda1.head()"
      ]
    },
    {
      "cell_type": "markdown",
      "source": [
        "#1. Análisis de facturación\n",
        "\n"
      ],
      "metadata": {
        "id": "X62IW3KFUIYm"
      }
    },
    {
      "cell_type": "code",
      "source": [
        "def cambio_nombre(texto):\n",
        "  match texto:\n",
        "    case \"ingresos_tienda1\" | \"prom_costo_envio_tienda1\" | \"prom_calificaciones_tienda1\":\n",
        "      return \"tienda 1\"\n",
        "    case \"ingresos_tienda2\" | \"prom_costo_envio_tienda2\" | \"prom_calificaciones_tienda2\":\n",
        "      return \"tienda 2\"\n",
        "    case \"ingresos_tienda3\"| \"prom_costo_envio_tienda3\" | \"prom_calificaciones_tienda3\":\n",
        "      return \"tienda 3\"\n",
        "    case _:\n",
        "      return \"tienda 4\""
      ],
      "metadata": {
        "id": "KDyr8E71V3m-"
      },
      "execution_count": 13,
      "outputs": []
    },
    {
      "cell_type": "code",
      "source": [
        "ingresos_totales = {\n",
        "\"ingresos_tienda1\" : float(tienda1['Precio'].sum()),\n",
        "\"ingresos_tienda2\" : float(tienda2['Precio'].sum()),\n",
        "\"ingresos_tienda3\" : float(tienda3['Precio'].sum()),\n",
        "\"ingresos_tienda4\" : float(tienda4['Precio'].sum())\n",
        "}\n",
        "\n",
        "df_ingresos_totales = pd.DataFrame.from_dict(ingresos_totales, orient='index', columns=['Ingresos'])\n",
        "\n",
        "tienda_mayor_ingreso = max(ingresos_totales, key=ingresos_totales.get)\n",
        "mayor_ingreso = ingresos_totales[tienda_mayor_ingreso]\n",
        "\n",
        "tienda_menor_ingreso = min(ingresos_totales, key=ingresos_totales.get)\n",
        "menor_ingreso = ingresos_totales[tienda_menor_ingreso]\n",
        "\n",
        "tienda_mayor_ingreso = cambio_nombre(tienda_mayor_ingreso)\n",
        "tienda_menor_ingreso = cambio_nombre(tienda_menor_ingreso)"
      ],
      "metadata": {
        "id": "xykobSftV64I"
      },
      "execution_count": 89,
      "outputs": []
    },
    {
      "cell_type": "markdown",
      "source": [
        "# 2. Ventas por categoría"
      ],
      "metadata": {
        "id": "2V_vcAPzWZmR"
      }
    },
    {
      "cell_type": "code",
      "source": [
        "ventas_por_categorias_totales = {\n",
        "\"ventas_por_categorias_tienda1\" : (tienda1.groupby(\"Categoría del Producto\")[[\"Categoría del Producto\"]].count()).rename(columns={\"Categoría del Producto\":\"Cantidad\"}),\n",
        "\"ventas_por_categorias_tienda2\" : (tienda2.groupby(\"Categoría del Producto\")[[\"Categoría del Producto\"]].count()).rename(columns={\"Categoría del Producto\":\"Cantidad\"}),\n",
        "\"ventas_por_categorias_tienda3\" : (tienda3.groupby(\"Categoría del Producto\")[[\"Categoría del Producto\"]].count()).rename(columns={\"Categoría del Producto\":\"Cantidad\"}),\n",
        "\"ventas_por_categorias_tienda4\" : (tienda4.groupby(\"Categoría del Producto\")[[\"Categoría del Producto\"]].count()).rename(columns={\"Categoría del Producto\":\"Cantidad\"})\n",
        "}\n",
        "\n",
        "categorias_mas_vendidas_tienda1 = ventas_por_categorias_totales[\"ventas_por_categorias_tienda1\"].sort_values('Cantidad', ascending=False).head(3)\n",
        "categorias_mas_vendidas_tienda2 = ventas_por_categorias_totales[\"ventas_por_categorias_tienda2\"].sort_values('Cantidad', ascending=False).head(3)\n",
        "categorias_mas_vendidas_tienda3 = ventas_por_categorias_totales[\"ventas_por_categorias_tienda3\"].sort_values('Cantidad', ascending=False).head(3)\n",
        "categorias_mas_vendidas_tienda4 = ventas_por_categorias_totales[\"ventas_por_categorias_tienda4\"].sort_values('Cantidad', ascending=False).head(3)\n",
        "\n",
        "categorias_menos_vendidas_tienda1 = ventas_por_categorias_totales[\"ventas_por_categorias_tienda1\"].sort_values('Cantidad', ascending=True).head(3)\n",
        "categorias_menos_vendidas_tienda2 = ventas_por_categorias_totales[\"ventas_por_categorias_tienda2\"].sort_values('Cantidad', ascending=True).head(3)\n",
        "categorias_menos_vendidas_tienda3 = ventas_por_categorias_totales[\"ventas_por_categorias_tienda3\"].sort_values('Cantidad', ascending=True).head(3)\n",
        "categorias_menos_vendidas_tienda4 = ventas_por_categorias_totales[\"ventas_por_categorias_tienda4\"].sort_values('Cantidad', ascending=True).head(3)"
      ],
      "metadata": {
        "id": "A34YupIuYhfF"
      },
      "execution_count": 55,
      "outputs": []
    },
    {
      "cell_type": "markdown",
      "source": [
        "# 3. Calificación promedio de la tienda\n"
      ],
      "metadata": {
        "id": "Rq6tU_xSY3jk"
      }
    },
    {
      "cell_type": "code",
      "source": [
        "prom_calificaciones_totales = {\n",
        "\"prom_calificaciones_tienda1\" : float(tienda1['Calificación'].sum() / tienda1['Calificación'].count()),\n",
        "\"prom_calificaciones_tienda2\" : float(tienda2['Calificación'].sum() / tienda2['Calificación'].count()),\n",
        "\"prom_calificaciones_tienda3\" : float(tienda3['Calificación'].sum() / tienda3['Calificación'].count()),\n",
        "\"prom_calificaciones_tienda4\" : float(tienda4['Calificación'].sum() / tienda4['Calificación'].count())\n",
        "}\n",
        "\n",
        "tienda_mayor_prom_calificacion = max(prom_calificaciones_totales, key=prom_calificaciones_totales.get)\n",
        "mayor_prom_calificacion = round(prom_calificaciones_totales[tienda_mayor_prom_calificacion], 2)\n",
        "\n",
        "tienda_menor_prom_calificacion = min(prom_calificaciones_totales, key=prom_calificaciones_totales.get)\n",
        "menor_prom_calificacion = round(prom_calificaciones_totales[tienda_menor_prom_calificacion], 2)\n",
        "\n",
        "tienda_mayor_prom_calificacion = cambio_nombre(tienda_mayor_prom_calificacion)\n",
        "tienda_menor_prom_calificacion = cambio_nombre(tienda_menor_prom_calificacion)"
      ],
      "metadata": {
        "id": "bh3jjjJwY5MU"
      },
      "execution_count": 65,
      "outputs": []
    },
    {
      "cell_type": "markdown",
      "source": [
        "# 4. Productos más y menos vendidos"
      ],
      "metadata": {
        "id": "DmNp1KPBZCm-"
      }
    },
    {
      "cell_type": "code",
      "source": [
        "ventas_por_producto_totales ={\n",
        "\"ventas_por_producto_tienda1\" : (tienda1.groupby(\"Producto\")[[\"Producto\"]].count()).rename(columns={\"Producto\":\"Cantidad\"}),\n",
        "\"ventas_por_producto_tienda2\" : (tienda2.groupby(\"Producto\")[[\"Producto\"]].count()).rename(columns={\"Producto\":\"Cantidad\"}),\n",
        "\"ventas_por_producto_tienda3\" : (tienda3.groupby(\"Producto\")[[\"Producto\"]].count()).rename(columns={\"Producto\":\"Cantidad\"}),\n",
        "\"ventas_por_producto_tienda4\" : (tienda4.groupby(\"Producto\")[[\"Producto\"]].count()).rename(columns={\"Producto\":\"Cantidad\"})\n",
        "}\n",
        "\n",
        "productos_mas_vendidos_tienda1 = ventas_por_producto_totales[\"ventas_por_producto_tienda1\"].sort_values('Cantidad', ascending=False).head(3)\n",
        "productos_mas_vendidos_tienda2 = ventas_por_producto_totales[\"ventas_por_producto_tienda2\"].sort_values('Cantidad', ascending=False).head(3)\n",
        "productos_mas_vendidos_tienda3 = ventas_por_producto_totales[\"ventas_por_producto_tienda3\"].sort_values('Cantidad', ascending=False).head(3)\n",
        "productos_mas_vendidos_tienda4 = ventas_por_producto_totales[\"ventas_por_producto_tienda4\"].sort_values('Cantidad', ascending=False).head(3)\n",
        "\n",
        "productos_menos_vendidos_tienda1 = ventas_por_producto_totales[\"ventas_por_producto_tienda1\"].sort_values('Cantidad', ascending=True).head(3)\n",
        "productos_menos_vendidos_tienda2 = ventas_por_producto_totales[\"ventas_por_producto_tienda2\"].sort_values('Cantidad', ascending=True).head(3)\n",
        "productos_menos_vendidos_tienda3 = ventas_por_producto_totales[\"ventas_por_producto_tienda3\"].sort_values('Cantidad', ascending=True).head(3)\n",
        "productos_menos_vendidos_tienda4 = ventas_por_producto_totales[\"ventas_por_producto_tienda4\"].sort_values('Cantidad', ascending=True).head(3)"
      ],
      "metadata": {
        "id": "qoyjqijQZHfF"
      },
      "execution_count": 71,
      "outputs": []
    },
    {
      "cell_type": "markdown",
      "source": [
        "# 5. Envío promedio por tienda"
      ],
      "metadata": {
        "id": "Fl0cGi3bZKqU"
      }
    },
    {
      "cell_type": "code",
      "source": [
        "prom_costo_envio_totales = {\n",
        "\"prom_costo_envio_tienda1\" : float(tienda1['Costo de envío'].sum() / tienda1['Costo de envío'].count()),\n",
        "\"prom_costo_envio_tienda2\" : float(tienda2['Costo de envío'].sum() / tienda2['Costo de envío'].count()),\n",
        "\"prom_costo_envio_tienda3\" : float(tienda3['Costo de envío'].sum() / tienda3['Costo de envío'].count()),\n",
        "\"prom_costo_envio_tienda4\" : float(tienda4['Costo de envío'].sum() / tienda4['Costo de envío'].count())\n",
        "}\n",
        "\n",
        "tienda_mayor_costo_envio = max(prom_costo_envio_totales, key=prom_costo_envio_totales.get)\n",
        "mayor_costo_envio = round(prom_costo_envio_totales[tienda_mayor_costo_envio], 2)\n",
        "\n",
        "tienda_menor_costo_envio = min(prom_costo_envio_totales, key=prom_costo_envio_totales.get)\n",
        "menor_costo_envio = round(prom_costo_envio_totales[tienda_menor_costo_envio], 2)\n",
        "\n",
        "tienda_mayor_costo_envio = cambio_nombre(tienda_mayor_costo_envio)\n",
        "tienda_menor_costo_envio = cambio_nombre(tienda_menor_costo_envio)"
      ],
      "metadata": {
        "id": "S2JeaCykZNy9"
      },
      "execution_count": 66,
      "outputs": []
    },
    {
      "cell_type": "markdown",
      "source": [
        "# **Informe Final**"
      ],
      "metadata": {
        "id": "6TqURhbq9pDW"
      }
    },
    {
      "cell_type": "markdown",
      "source": [
        "Este informe tiene como objetivo validar que tienda es menos rentable para tener la posibilidad de vendarla o bien cambiar su estrategia de negocio, con el fin de tener nuevas inversiones.\n",
        "\n",
        "A continuación el detalle del análisis:"
      ],
      "metadata": {
        "id": "pN6gsMf994ec"
      }
    },
    {
      "cell_type": "code",
      "source": [
        "df_ingresos_totales.plot(kind='bar', legend=False)\n",
        "plt.title('Ingresos por Tienda')\n",
        "plt.ylabel('Colones')\n",
        "plt.xlabel('Tienda')\n",
        "plt.xticks(rotation=45)\n",
        "plt.tight_layout()\n",
        "plt.show()\n",
        "print(\"\\n\")\n",
        "\n",
        "print(f\"La tienda que presenta el mayor ingreso es la {tienda_mayor_ingreso} con un total de: {mayor_ingreso}\")\n",
        "print(f\"La tienda que presenta el menor ingreso es la {tienda_menor_ingreso} con un total de: {menor_ingreso}\")\n",
        "print(\"\\n\")\n",
        "\n",
        "print(f\"La tienda que presenta el mayor promedio de calificación es la {tienda_mayor_prom_calificacion} con un total de: {mayor_prom_calificacion} puntos\")\n",
        "print(f\"La tienda que presenta el menor promedio de calificación es la {tienda_menor_prom_calificacion} con un total de: {menor_prom_calificacion} puntos\")\n",
        "print(\"\\n\")\n",
        "\n",
        "print(f\"La tienda que presenta el mayor costo promedio de envío es la {tienda_mayor_costo_envio} con un total de: {mayor_costo_envio}\")\n",
        "print(f\"La tienda que presenta el menor costo promedio de envío es la {tienda_menor_costo_envio} con un total de: {menor_costo_envio}\")"
      ],
      "metadata": {
        "colab": {
          "base_uri": "https://localhost:8080/",
          "height": 691
        },
        "id": "mR6A3XG7-cPR",
        "outputId": "5d3f181f-b692-4bd8-91c5-09efb9fc3590"
      },
      "execution_count": 92,
      "outputs": [
        {
          "output_type": "display_data",
          "data": {
            "text/plain": [
              "<Figure size 640x480 with 1 Axes>"
            ],
            "image/png": "[encoded data removed]"
          },
          "metadata": {}
        },
        {
          "output_type": "stream",
          "name": "stdout",
          "text": [
            "\n",
            "\n",
            "La tienda que presenta el mayor ingreso es la tienda 1 con un total de: 1150880400.0\n",
            "La tienda que presenta el menor ingreso es la tienda 4 con un total de: 1038375700.0\n",
            "\n",
            "\n",
            "La tienda que presenta el mayor promedio de calificación es la tienda 3 con un total de: 4.05 puntos\n",
            "La tienda que presenta el menor promedio de calificación es la tienda 1 con un total de: 3.98 puntos\n",
            "\n",
            "\n",
            "La tienda que presenta el mayor costo promedio de envío es la tienda 1 con un total de: 26018.61\n",
            "La tienda que presenta el menor costo promedio de envío es la tienda 4 con un total de: 23459.46\n"
          ]
        }
      ]
    },
    {
      "cell_type": "markdown",
      "source": [
        "**Conclusión**\n",
        "\n",
        "Como se puede observar la tienda que presenta menores ingresos es la tienda 4, sin embargo la tienda 1 que es la que tiene mayores ingresos, tiene el peor promedio de calificación y el mayor costo promedio de envío.\n",
        "\n",
        "Por lo que recomiendo realizar dos movimientos:\n",
        "\n",
        "1.   Trabajar en mejoras de calificación y reducción de costos para la tienda 1.\n",
        "2.   Y cerrar o vender la tienda 4 y reinvertir en una nueva tienda.\n",
        "\n"
      ],
      "metadata": {
        "id": "qDNBCS03JSuj"
      }
    }
  ]
}